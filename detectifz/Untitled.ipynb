{
 "cells": [
  {
   "cell_type": "code",
   "execution_count": 47,
   "id": "0346df17-126e-44b6-98fe-a7b4b90615f7",
   "metadata": {},
   "outputs": [],
   "source": [
    "from photutils import SkyCircularAperture\n",
    "from astropy.coordinates import SkyCoord\n",
    "from astropy import units\n",
    "import numpy as np\n",
    "from astropy.io import fits\n",
    "from astropy import wcs\n",
    "from astropy.wcs.utils import proj_plane_pixel_area,proj_plane_pixel_scales\n",
    "import time"
   ]
  },
  {
   "cell_type": "code",
   "execution_count": 53,
   "id": "ccc155d4-e521-4166-8b9e-6cfdda19a5c9",
   "metadata": {},
   "outputs": [
    {
     "data": {
      "text/plain": [
       "38"
      ]
     },
     "execution_count": 53,
     "metadata": {},
     "output_type": "execute_result"
    }
   ],
   "source": [
    "len(np.arange(0.1,2,0.05))"
   ]
  },
  {
   "cell_type": "code",
   "execution_count": 36,
   "id": "0010147e-46d6-462f-b3e8-12bff17d57d1",
   "metadata": {},
   "outputs": [],
   "source": [
    "weights2d = fits.open('/Users/fsarron/lance_detectifz/HSC/HSC_FirstTest/HSC_FirstTest_DETECTIFzrun/'+\n",
    "                      'tile0000/masks.HSC_FirstTest.radec.fits')[0]"
   ]
  },
  {
   "cell_type": "code",
   "execution_count": 54,
   "id": "af9abc4d-e786-4cac-b428-1d57526d0a87",
   "metadata": {},
   "outputs": [],
   "source": [
    "clussky = SkyCoord(ra = np.random.uniform(29.95, 30.6, 1000), \n",
    "                   dec=np.random.uniform(-6.5, -5.7, 1000), unit='deg', frame='icrs')\n",
    "rr = np.linspace(0.1,3,38)*units.arcmin"
   ]
  },
  {
   "cell_type": "code",
   "execution_count": 55,
   "id": "8678aa97-f690-4753-bed0-c7e41e9ac550",
   "metadata": {},
   "outputs": [
    {
     "name": "stdout",
     "output_type": "stream",
     "text": [
      "done in  72.32295608520508 s\n"
     ]
    }
   ],
   "source": [
    "start = time.time()\n",
    "for rrr in rr:\n",
    "    aperture = SkyCircularAperture(clussky, r=rrr)\n",
    "    aperture_pix = aperture.to_pixel(wcs.WCS(weights2d.header))\n",
    "    aperture_masks = aperture_pix.to_mask(method='center')\n",
    "    aperture_data = [aperture_masks[i].multiply(weights2d.data) \n",
    "                          for i in range(len(aperture_masks))]\n",
    "    area_notmasked_deg2 = [np.sum(aperture_data[i]) * proj_plane_pixel_area(wcs.WCS(weights2d.header)) * (units.deg**2) \n",
    "                       for i in range(len(aperture_masks))]\n",
    "\n",
    "print('done in ', time.time()-start, 's')  "
   ]
  },
  {
   "cell_type": "code",
   "execution_count": null,
   "id": "8f21cb47-a0ac-427b-a7a2-0d331e056b6b",
   "metadata": {},
   "outputs": [],
   "source": []
  }
 ],
 "metadata": {
  "kernelspec": {
   "display_name": "Python 3 (ipykernel)",
   "language": "python",
   "name": "python3"
  },
  "language_info": {
   "codemirror_mode": {
    "name": "ipython",
    "version": 3
   },
   "file_extension": ".py",
   "mimetype": "text/x-python",
   "name": "python",
   "nbconvert_exporter": "python",
   "pygments_lexer": "ipython3",
   "version": "3.9.13"
  }
 },
 "nbformat": 4,
 "nbformat_minor": 5
}
